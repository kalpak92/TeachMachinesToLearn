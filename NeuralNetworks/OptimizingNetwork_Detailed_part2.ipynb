{
 "cells": [
  {
   "cell_type": "code",
   "execution_count": 1,
   "metadata": {},
   "outputs": [],
   "source": [
    "import torch\n",
    "import torch.nn as nn\n",
    "import torch.nn.functional as F\n",
    "import torchvision\n",
    "from torchvision import transforms, datasets, models\n",
    "import numpy as np\n",
    "import matplotlib.pyplot as plt\n",
    "from torch.autograd import Variable\n",
    "from collections import namedtuple\n",
    "from IPython.display import Image\n",
    "%matplotlib inline\n",
    "np.random.seed(2020)\n",
    "device = torch.device(\"cuda\" if torch.cuda.is_available() else \"cpu\")"
   ]
  },
  {
   "cell_type": "code",
   "execution_count": 2,
   "metadata": {},
   "outputs": [],
   "source": [
    "batch_size = 1024\n",
    "transform = transforms.Compose(\n",
    "    [transforms.ToTensor(),\n",
    "#      transforms.Normalize((0.1307,), (0.3081,))\n",
    "    ])\n",
    "\n",
    "train_data = torchvision.datasets.MNIST(root='./data', train=True,\n",
    "                                        download=True, transform=transform)\n",
    "test_data = torchvision.datasets.MNIST(root='./data', train=False,\n",
    "                                     download=True, transform=transform)\n",
    "train_size = train_data.data.shape[0]\n",
    "val_size, train_size = int(0.20 * train_size), int(0.80 * train_size) # 80 / 20 train-val split\n",
    "test_size = test_data.data.shape[0]\n",
    "Metric = namedtuple('Metric', ['train_loss', 'train_error', 'val_error', 'val_loss'])\n",
    "\n",
    "trainloader = torch.utils.data.DataLoader(train_data, batch_size=batch_size,\n",
    "                                          num_workers=0, \n",
    "                                          sampler=torch.utils.data.sampler.SubsetRandomSampler(np.arange(val_size, val_size+train_size))\n",
    "                                         )\n",
    "valloader = torch.utils.data.DataLoader(train_data, batch_size=batch_size,\n",
    "                                        num_workers=0, \n",
    "                                        sampler=torch.utils.data.sampler.SubsetRandomSampler(np.arange(0, val_size))\n",
    "                                         )\n",
    "                                        \n",
    "testloader = torch.utils.data.DataLoader(test_data, batch_size=batch_size,\n",
    "                                         shuffle=False, \n",
    "                                         num_workers=0\n",
    "                                        )\n"
   ]
  },
  {
   "cell_type": "code",
   "execution_count": 3,
   "metadata": {},
   "outputs": [
    {
     "name": "stdout",
     "output_type": "stream",
     "text": [
      "48000\n",
      "12000\n",
      "10000\n"
     ]
    }
   ],
   "source": [
    "print(train_size)\n",
    "print(val_size)\n",
    "print(test_size)"
   ]
  },
  {
   "cell_type": "code",
   "execution_count": 4,
   "metadata": {},
   "outputs": [
    {
     "data": {
      "image/png": "[encoded data removed]",
      "text/plain": [
       "<Figure size 720x360 with 8 Axes>"
      ]
     },
     "metadata": {
      "needs_background": "light"
     },
     "output_type": "display_data"
    }
   ],
   "source": [
    "idxs = [0, 5, 7, 30, 214,3412, 5555, 6666, 7777]\n",
    "f, a = plt.subplots(2, 4, figsize=(10, 5))\n",
    "for i in range(8):\n",
    "    X = train_data.data[idxs[i]]\n",
    "    Y = train_data.targets[idxs[i]]\n",
    "    r, c = i // 4, i % 4\n",
    "    a[r][c].set_title(Y)\n",
    "    a[r][c].axis('off')\n",
    "    a[r][c].imshow(X.numpy())\n",
    "plt.draw()"
   ]
  },
  {
   "cell_type": "code",
   "execution_count": 5,
   "metadata": {},
   "outputs": [],
   "source": [
    "def one_epoch(epoch, net, loader, optimizer):\n",
    "    net.train()\n",
    "    running_loss = 0.0\n",
    "    n = 0\n",
    "    correct = 0\n",
    "    total = 0\n",
    "    for i, data in enumerate(loader):\n",
    "        # get the inputs; data is a list of [inputs, labels]\n",
    "        inputs, labels = data\n",
    "        # zero the parameter gradients\n",
    "        optimizer.zero_grad()\n",
    "        # forward + backward + optimize\n",
    "        outputs = net(inputs)\n",
    "        loss = F.cross_entropy(outputs, labels)\n",
    "        running_loss += loss.item()\n",
    "        loss.backward()\n",
    "        optimizer.step()\n",
    "        _, predicted = torch.max(outputs.data, 1)\n",
    "        total += labels.size(0)\n",
    "        correct += (predicted == labels).sum().item()\n",
    "        # print statistics\n",
    "    avg_loss = running_loss / total\n",
    "    acc = correct / total\n",
    "    return avg_loss, acc\n",
    "    \n",
    "def train(net, loader, dev_loader, optimizer, epochs):\n",
    "    train_losses = []\n",
    "    valid_losses = []\n",
    "    for epoch in range(epochs):  # loop over the dataset multiple times\n",
    "        avg_loss_t, acc_t = one_epoch(epoch, net, loader, optimizer)\n",
    "        avg_loss_v, acc_v = infer(net, dev_loader)\n",
    "        train_losses.append(avg_loss_t)\n",
    "        valid_losses.append(avg_loss_v)\n",
    "        if epoch % 5 == 0:\n",
    "            print('[%d] loss: %.8f, acc: %.4f' %\n",
    "                  (epoch + 1, avg_loss_t, acc_t))\n",
    "            print('[valid] loss: %.8f, acc: %.4f' % (avg_loss_v, acc_v))\n",
    "    return train_losses, valid_losses\n",
    "\n",
    "def train_step(net, loader, dev_loader, optimizer, scheduler, epochs):\n",
    "    net.train()\n",
    "    train_losses = []\n",
    "    valid_losses = []\n",
    "    for epoch in range(epochs):  # loop over the dataset multiple times\n",
    "        avg_loss_t, acc_t = one_epoch(epoch, net, loader, optimizer)\n",
    "        avg_loss_v, acc_v = infer(net, dev_loader)\n",
    "        scheduler.step()\n",
    "        if epoch % 5 == 0:\n",
    "            print('[%d] loss: %.8f, acc: %.4f' %\n",
    "                  (epoch + 1, avg_loss_t, acc_t))\n",
    "            print('[valid] loss: %.8f, acc: %.4f' % (avg_loss_v, acc_v))\n",
    "            print(\"lr: {}\".format(optimizer.param_groups[0]['lr']))\n",
    "            \n",
    "        train_losses.append(avg_loss_t)\n",
    "        valid_losses.append(avg_loss_v)\n",
    "    return train_losses, valid_losses\n",
    "        \n",
    "def infer(net, loader):\n",
    "    net.eval()\n",
    "    running_loss = 0.0\n",
    "    n = 0\n",
    "    correct = 0\n",
    "    total = 0\n",
    "    with torch.no_grad():\n",
    "        for i, data in enumerate(loader):\n",
    "            # get the inputs; data is a list of [inputs, labels]\n",
    "            inputs, labels = data\n",
    "            # zero the parameter gradients\n",
    "            # forward + backward + optimize\n",
    "            outputs = net(inputs)\n",
    "            loss = F.cross_entropy(outputs, labels)\n",
    "            running_loss += loss.item()\n",
    "            _, predicted = torch.max(outputs.data, 1)\n",
    "            total += labels.size(0)\n",
    "            correct += (predicted == labels).sum().item()\n",
    "\n",
    "    acc = correct / total\n",
    "    avg_loss = running_loss / total\n",
    "    \n",
    "    return avg_loss, acc\n",
    "\n",
    "### VISUALIZATION ###\n",
    "def training_plot(a, b):\n",
    "    plt.figure(1)\n",
    "    plt.plot(a, 'b', label=\"train\")\n",
    "    plt.plot(b, 'g', label=\"valid\")\n",
    "    plt.title('Training/Valid Loss')\n",
    "    plt.legend()\n",
    "    plt.show()"
   ]
  },
  {
   "cell_type": "code",
   "execution_count": 10,
   "metadata": {},
   "outputs": [
    {
     "name": "stdout",
     "output_type": "stream",
     "text": [
      "[1] loss: 0.00197670, acc: 0.3059\n",
      "[valid] loss: 0.00197545, acc: 0.2136\n",
      "[6] loss: 0.00054946, acc: 0.8198\n",
      "[valid] loss: 0.00050464, acc: 0.8347\n",
      "[11] loss: 0.00045720, acc: 0.8586\n",
      "[valid] loss: 0.00040604, acc: 0.8834\n",
      "[16] loss: 0.00041636, acc: 0.8711\n",
      "[valid] loss: 0.00037343, acc: 0.8964\n",
      "[21] loss: 0.00034431, acc: 0.8943\n",
      "[valid] loss: 0.00043743, acc: 0.8712\n",
      "[26] loss: 0.00043497, acc: 0.8759\n",
      "[valid] loss: 0.00243188, acc: 0.4585\n",
      "[31] loss: 0.00028818, acc: 0.9119\n",
      "[valid] loss: 0.00029051, acc: 0.9167\n",
      "[36] loss: 0.00027347, acc: 0.9178\n",
      "[valid] loss: 0.00029432, acc: 0.9163\n",
      "[41] loss: 0.00027363, acc: 0.9162\n",
      "[valid] loss: 0.00028750, acc: 0.9159\n",
      "[46] loss: 0.00026313, acc: 0.9193\n",
      "[valid] loss: 0.00031226, acc: 0.9088\n",
      "[51] loss: 0.00024783, acc: 0.9247\n",
      "[valid] loss: 0.00028764, acc: 0.9184\n",
      "[56] loss: 0.00024319, acc: 0.9254\n",
      "[valid] loss: 0.00044711, acc: 0.8683\n",
      "[61] loss: 0.00021962, acc: 0.9333\n",
      "[valid] loss: 0.00024424, acc: 0.9297\n",
      "[66] loss: 0.00021302, acc: 0.9355\n",
      "[valid] loss: 0.00024298, acc: 0.9287\n",
      "[71] loss: 0.00020705, acc: 0.9368\n",
      "[valid] loss: 0.00023636, acc: 0.9307\n",
      "[76] loss: 0.00019958, acc: 0.9386\n",
      "[valid] loss: 0.00023928, acc: 0.9312\n",
      "[81] loss: 0.00019303, acc: 0.9410\n",
      "[valid] loss: 0.00023819, acc: 0.9315\n",
      "[86] loss: 0.00035372, acc: 0.8925\n",
      "[valid] loss: 0.00034620, acc: 0.9008\n",
      "[91] loss: 0.00033382, acc: 0.8998\n",
      "[valid] loss: 0.00027480, acc: 0.9218\n",
      "[96] loss: 0.00024508, acc: 0.9248\n",
      "[valid] loss: 0.00027775, acc: 0.9173\n",
      "Final TEST SCORE: loss: 0.00025529495477676393 acc: 0.9261\n"
     ]
    },
    {
     "data": {
      "image/png": "[encoded data removed]",
      "text/plain": [
       "<Figure size 432x288 with 1 Axes>"
      ]
     },
     "metadata": {
      "needs_background": "light"
     },
     "output_type": "display_data"
    }
   ],
   "source": [
    "### LET'S TRAIN the baseline ###\n",
    "\"\"\" baseline \"\"\"\n",
    "model1 = nn.Sequential(nn.Flatten(),\n",
    "                       nn.Linear(784, 20), \n",
    "                       nn.ReLU(),\n",
    "                       nn.Linear(20, 20), \n",
    "                       nn.ReLU(),\n",
    "                       nn.Linear(20, 10), \n",
    "                       )\n",
    "model1 = model1.to(device)\n",
    "opt1 = torch.optim.SGD(model1.parameters(), lr=0.8)\n",
    "train_losses, valid_losses = train(model1, trainloader, valloader, opt1, 100)\n",
    "\n",
    "test_loss, acc_test = infer(model1, testloader)\n",
    "print(\"Final TEST SCORE: loss: {} acc: {}\".format(test_loss, acc_test))\n",
    "training_plot(train_losses, valid_losses)"
   ]
  },
  {
   "cell_type": "code",
   "execution_count": 11,
   "metadata": {},
   "outputs": [
    {
     "name": "stdout",
     "output_type": "stream",
     "text": [
      "[1] loss: 0.00181192, acc: 0.3546\n",
      "[valid] loss: 0.00091321, acc: 0.7165\n",
      "lr: 0.8\n",
      "[6] loss: 0.00026620, acc: 0.9192\n",
      "[valid] loss: 0.00027153, acc: 0.9207\n",
      "lr: 0.8\n",
      "[11] loss: 0.00023593, acc: 0.9272\n",
      "[valid] loss: 0.00021175, acc: 0.9362\n",
      "lr: 0.8\n",
      "[16] loss: 0.00019139, acc: 0.9421\n",
      "[valid] loss: 0.00019487, acc: 0.9397\n",
      "lr: 0.8\n",
      "[21] loss: 0.00018529, acc: 0.9436\n",
      "[valid] loss: 0.00019285, acc: 0.9418\n",
      "lr: 0.8\n",
      "[26] loss: 0.00016167, acc: 0.9503\n",
      "[valid] loss: 0.00022845, acc: 0.9343\n",
      "lr: 0.8\n",
      "[31] loss: 0.00017115, acc: 0.9479\n",
      "[valid] loss: 0.00018276, acc: 0.9454\n",
      "lr: 0.8\n",
      "[36] loss: 0.00013102, acc: 0.9592\n",
      "[valid] loss: 0.00017198, acc: 0.9491\n",
      "lr: 0.4\n",
      "[41] loss: 0.00012467, acc: 0.9619\n",
      "[valid] loss: 0.00016851, acc: 0.9482\n",
      "lr: 0.4\n",
      "[46] loss: 0.00012026, acc: 0.9625\n",
      "[valid] loss: 0.00016931, acc: 0.9487\n",
      "lr: 0.4\n",
      "[51] loss: 0.00011611, acc: 0.9640\n",
      "[valid] loss: 0.00016458, acc: 0.9506\n",
      "lr: 0.4\n",
      "[56] loss: 0.00011168, acc: 0.9657\n",
      "[valid] loss: 0.00016342, acc: 0.9506\n",
      "lr: 0.4\n",
      "[61] loss: 0.00010697, acc: 0.9671\n",
      "[valid] loss: 0.00016183, acc: 0.9520\n",
      "lr: 0.4\n",
      "[66] loss: 0.00010434, acc: 0.9674\n",
      "[valid] loss: 0.00016289, acc: 0.9500\n",
      "lr: 0.2\n",
      "[71] loss: 0.00009774, acc: 0.9698\n",
      "[valid] loss: 0.00016075, acc: 0.9523\n",
      "lr: 0.2\n",
      "[76] loss: 0.00009598, acc: 0.9708\n",
      "[valid] loss: 0.00016085, acc: 0.9528\n",
      "lr: 0.2\n",
      "[81] loss: 0.00009389, acc: 0.9711\n",
      "[valid] loss: 0.00016165, acc: 0.9524\n",
      "lr: 0.2\n",
      "[86] loss: 0.00009232, acc: 0.9721\n",
      "[valid] loss: 0.00016158, acc: 0.9527\n",
      "lr: 0.2\n",
      "[91] loss: 0.00009061, acc: 0.9721\n",
      "[valid] loss: 0.00016096, acc: 0.9520\n",
      "lr: 0.2\n",
      "[96] loss: 0.00008955, acc: 0.9726\n",
      "[valid] loss: 0.00016315, acc: 0.9513\n",
      "lr: 0.2\n",
      "Final TEST SCORE: loss: 0.00015977594405412675 acc: 0.9535\n"
     ]
    },
    {
     "data": {
      "image/png": "[encoded data removed]",
      "text/plain": [
       "<Figure size 432x288 with 1 Axes>"
      ]
     },
     "metadata": {
      "needs_background": "light"
     },
     "output_type": "display_data"
    }
   ],
   "source": [
    "### LET'S TRAIN the baseline ###\n",
    "\"\"\" baseline with scheduler \"\"\"\n",
    "model2 = nn.Sequential(nn.Flatten(),\n",
    "                       nn.Linear(784, 20), \n",
    "                       nn.ReLU(),\n",
    "                       nn.Linear(20, 20), \n",
    "                       nn.ReLU(),\n",
    "                       nn.Linear(20, 10),  \n",
    "                       )\n",
    "model2 = model2.to(device)\n",
    "opt2 = torch.optim.SGD(model2.parameters(), lr=0.8)\n",
    "scheduler = torch.optim.lr_scheduler.StepLR(opt2, gamma=0.5, step_size=33)\n",
    "train_losses, valid_losses = train_step(model2, trainloader, valloader, opt2, scheduler, 100)\n",
    "test_loss, acc_test = infer(model2, testloader)\n",
    "print(\"Final TEST SCORE: loss: {} acc: {}\".format(test_loss, acc_test))\n",
    "training_plot(train_losses, valid_losses)"
   ]
  },
  {
   "cell_type": "code",
   "execution_count": null,
   "metadata": {},
   "outputs": [],
   "source": [
    "# \"\"\" dropout \"\"\"\n",
    "# model3 = nn.Sequential(nn.Linear(784, 20), \n",
    "#                        nn.ReLU(),\n",
    "#                        nn.Linear(20, 20), \n",
    "#                        nn.ReLU(),\n",
    "#                        nn.Linear(20, 10),  , \n",
    "#                        )\n",
    "# model3 = model3.to(device)\n",
    "# model3.apply(init_randn)\n",
    "# opt3 = torch.optim.SGD(model1.parameters(), lr=0.1)\n",
    "# train_losses, valid_losses = train(model3, trainloader, valloader, opt1, 150)\n",
    "\n",
    "# test_loss, acc_test = infer(model3, testloader)\n",
    "# print(\"Final TEST SCORE: loss: {} acc: {}\".format(test_loss, acc_test))\n",
    "# training_plot(train_losses, valid_losses)"
   ]
  },
  {
   "cell_type": "code",
   "execution_count": 16,
   "metadata": {},
   "outputs": [
    {
     "name": "stdout",
     "output_type": "stream",
     "text": [
      "[1] loss: 0.00050065, acc: 0.8487\n",
      "[valid] loss: 0.00028971, acc: 0.9099\n",
      "[6] loss: 0.00013625, acc: 0.9583\n",
      "[valid] loss: 0.00016915, acc: 0.9503\n",
      "[11] loss: 0.00010391, acc: 0.9676\n",
      "[valid] loss: 0.00015112, acc: 0.9567\n",
      "[16] loss: 0.00008268, acc: 0.9733\n",
      "[valid] loss: 0.00014073, acc: 0.9616\n",
      "[21] loss: 0.00007220, acc: 0.9764\n",
      "[valid] loss: 0.00015790, acc: 0.9541\n",
      "[26] loss: 0.00006318, acc: 0.9786\n",
      "[valid] loss: 0.00015472, acc: 0.9578\n",
      "[31] loss: 0.00005793, acc: 0.9809\n",
      "[valid] loss: 0.00017224, acc: 0.9549\n",
      "[36] loss: 0.00004942, acc: 0.9838\n",
      "[valid] loss: 0.00017817, acc: 0.9553\n",
      "[41] loss: 0.00004370, acc: 0.9856\n",
      "[valid] loss: 0.00019572, acc: 0.9532\n",
      "[46] loss: 0.00004161, acc: 0.9859\n",
      "[valid] loss: 0.00019454, acc: 0.9541\n",
      "[51] loss: 0.00003661, acc: 0.9881\n",
      "[valid] loss: 0.00018071, acc: 0.9577\n",
      "[56] loss: 0.00003339, acc: 0.9890\n",
      "[valid] loss: 0.00018644, acc: 0.9564\n",
      "[61] loss: 0.00002987, acc: 0.9901\n",
      "[valid] loss: 0.00020657, acc: 0.9542\n",
      "[66] loss: 0.00003029, acc: 0.9893\n",
      "[valid] loss: 0.00020246, acc: 0.9559\n",
      "[71] loss: 0.00002550, acc: 0.9919\n",
      "[valid] loss: 0.00020462, acc: 0.9564\n",
      "[76] loss: 0.00002464, acc: 0.9919\n",
      "[valid] loss: 0.00024724, acc: 0.9465\n",
      "[81] loss: 0.00002287, acc: 0.9925\n",
      "[valid] loss: 0.00021846, acc: 0.9573\n",
      "[86] loss: 0.00001785, acc: 0.9947\n",
      "[valid] loss: 0.00023166, acc: 0.9561\n",
      "[91] loss: 0.00002266, acc: 0.9922\n",
      "[valid] loss: 0.00038519, acc: 0.9317\n",
      "[96] loss: 0.00001688, acc: 0.9946\n",
      "[valid] loss: 0.00024787, acc: 0.9555\n",
      "Final TEST SCORE: loss: 0.00024612836018204687 acc: 0.9538\n"
     ]
    },
    {
     "data": {
      "image/png": "[encoded data removed]",
      "text/plain": [
       "<Figure size 432x288 with 1 Axes>"
      ]
     },
     "metadata": {
      "needs_background": "light"
     },
     "output_type": "display_data"
    }
   ],
   "source": [
    "\"\"\" batchnorm \"\"\"\n",
    "model4 = nn.Sequential(nn.Flatten(),\n",
    "                       nn.Linear(784, 20), \n",
    "                       nn.ReLU(),\n",
    "                       nn.BatchNorm1d(20),\n",
    "                       nn.Linear(20, 20), \n",
    "                       nn.ReLU(),\n",
    "                       nn.BatchNorm1d(20),\n",
    "                       nn.Linear(20, 10),\n",
    "                       )\n",
    "\n",
    "model4 = model4.to(device)\n",
    "opt4 = torch.optim.SGD(model4.parameters(), lr=0.8,weight_decay=1e-4)\n",
    "loss = nn.CrossEntropyLoss()\n",
    "train_losses, valid_losses = train(model4, trainloader, valloader, opt4, 100)\n",
    "test_loss, acc_test = infer(model4, testloader)\n",
    "print(\"Final TEST SCORE: loss: {} acc: {}\".format(test_loss, acc_test))\n",
    "training_plot(train_losses, valid_losses)"
   ]
  },
  {
   "cell_type": "code",
   "execution_count": 68,
   "metadata": {},
   "outputs": [
    {
     "name": "stdout",
     "output_type": "stream",
     "text": [
      "# of batches: 47\n"
     ]
    }
   ],
   "source": [
    "\"\"\"how to know what is the best learning rate? \"\"\"\n",
    "\"\"\" trial and error \"\"\"\n",
    "### LET'S TRAIN the baseline ###\n",
    "from collections import defaultdict\n",
    "def find_best_lr(loader, starting_lr=1e-6, gamma=1.4, trials=5):\n",
    "    lr2loss = defaultdict(list)\n",
    "    for i in range(trials):\n",
    "        torch.manual_seed(i)\n",
    "        net = nn.Sequential(nn.Flatten(),\n",
    "                       nn.Linear(784, 20), \n",
    "                       nn.ReLU(),\n",
    "                       nn.Linear(20, 20), \n",
    "                       nn.ReLU(),\n",
    "                       nn.Linear(20, 10),  \n",
    "                       )\n",
    "        net = net.to(device)\n",
    "        optimizer = torch.optim.SGD(model3.parameters(), lr=starting_lr)\n",
    "        scheduler = torch.optim.lr_scheduler.StepLR(optimizer, step_size=1, gamma=gamma)\n",
    "        \n",
    "        last_loss = -1\n",
    "        for x, y in loader:\n",
    "            x = x.to(x)\n",
    "            y = y.to(y)\n",
    "            out = net(x)\n",
    "            optimizer.zero_grad()\n",
    "            loss = F.cross_entropy(out, y)\n",
    "            loss.backward()\n",
    "            lr = optimizer.param_groups[0]['lr']\n",
    "            if last_loss != -1: lr2loss[lr].append(last_loss - loss.cpu().item())\n",
    "            optimizer.step()\n",
    "            scheduler.step()\n",
    "            last_loss = loss.cpu().item()\n",
    "    return lr2loss\n",
    "            \n",
    "\"\"\" baseline with scheduler \"\"\"\n",
    "print(\"# of batches: {}\".format(len(trainloader)))\n",
    "lr2loss = find_best_lr(trainloader, starting_lr=1e-6, gamma=1.4, trials=20)"
   ]
  },
  {
   "cell_type": "code",
   "execution_count": 69,
   "metadata": {},
   "outputs": [
    {
     "data": {
      "text/plain": [
       "[<matplotlib.lines.Line2D at 0x129d7cd10>]"
      ]
     },
     "execution_count": 69,
     "metadata": {},
     "output_type": "execute_result"
    },
    {
     "data": {
      "image/png": "[encoded data removed]",
      "text/plain": [
       "<Figure size 432x288 with 1 Axes>"
      ]
     },
     "metadata": {
      "needs_background": "light"
     },
     "output_type": "display_data"
    }
   ],
   "source": [
    "lrs = list(lr2loss.keys())\n",
    "vals = [sum(lr2loss[i]) for i in lrs]\n",
    "plt.plot(lrs, vals)"
   ]
  },
  {
   "cell_type": "code",
   "execution_count": 71,
   "metadata": {},
   "outputs": [
    {
     "data": {
      "text/plain": [
       "0.1822255561721857"
      ]
     },
     "execution_count": 71,
     "metadata": {},
     "output_type": "execute_result"
    }
   ],
   "source": [
    "lrs[np.argmax(vals)]"
   ]
  },
  {
   "cell_type": "code",
   "execution_count": 72,
   "metadata": {},
   "outputs": [
    {
     "name": "stdout",
     "output_type": "stream",
     "text": [
      "[1] loss: 0.00202340, acc: 0.3182\n",
      "[valid] loss: 0.00146698, acc: 0.5357\n",
      "[6] loss: 0.00035380, acc: 0.8936\n",
      "[valid] loss: 0.00034427, acc: 0.9046\n",
      "[11] loss: 0.00026334, acc: 0.9215\n",
      "[valid] loss: 0.00026326, acc: 0.9251\n",
      "[16] loss: 0.00021973, acc: 0.9344\n",
      "[valid] loss: 0.00022377, acc: 0.9322\n",
      "[21] loss: 0.00019180, acc: 0.9423\n",
      "[valid] loss: 0.00020307, acc: 0.9404\n",
      "[26] loss: 0.00016931, acc: 0.9494\n",
      "[valid] loss: 0.00019470, acc: 0.9441\n",
      "[31] loss: 0.00015268, acc: 0.9543\n",
      "[valid] loss: 0.00018613, acc: 0.9455\n",
      "[36] loss: 0.00014308, acc: 0.9567\n",
      "[valid] loss: 0.00016417, acc: 0.9526\n",
      "[41] loss: 0.00013047, acc: 0.9611\n",
      "[valid] loss: 0.00016099, acc: 0.9526\n",
      "[46] loss: 0.00012135, acc: 0.9635\n",
      "[valid] loss: 0.00015168, acc: 0.9557\n",
      "[51] loss: 0.00011247, acc: 0.9664\n",
      "[valid] loss: 0.00015441, acc: 0.9548\n",
      "[56] loss: 0.00011006, acc: 0.9668\n",
      "[valid] loss: 0.00016390, acc: 0.9525\n",
      "[61] loss: 0.00010108, acc: 0.9697\n",
      "[valid] loss: 0.00014662, acc: 0.9581\n",
      "[66] loss: 0.00009838, acc: 0.9699\n",
      "[valid] loss: 0.00014820, acc: 0.9563\n",
      "[71] loss: 0.00009571, acc: 0.9702\n",
      "[valid] loss: 0.00014115, acc: 0.9593\n",
      "[76] loss: 0.00008860, acc: 0.9727\n",
      "[valid] loss: 0.00014166, acc: 0.9600\n",
      "[81] loss: 0.00008507, acc: 0.9739\n",
      "[valid] loss: 0.00013856, acc: 0.9610\n",
      "[86] loss: 0.00008338, acc: 0.9735\n",
      "[valid] loss: 0.00013721, acc: 0.9610\n",
      "[91] loss: 0.00008137, acc: 0.9739\n",
      "[valid] loss: 0.00013744, acc: 0.9612\n",
      "[96] loss: 0.00007468, acc: 0.9763\n",
      "[valid] loss: 0.00014315, acc: 0.9603\n",
      "Final TEST SCORE: loss: 0.0001345279850065708 acc: 0.961\n"
     ]
    },
    {
     "data": {
      "image/png": "[encoded data removed]",
      "text/plain": [
       "<Figure size 432x288 with 1 Axes>"
      ]
     },
     "metadata": {
      "needs_background": "light"
     },
     "output_type": "display_data"
    }
   ],
   "source": [
    "### LET'S TRAIN the baseline ###\n",
    "\"\"\" baseline \"\"\"\n",
    "model1 = nn.Sequential(nn.Flatten(),\n",
    "                       nn.Linear(784, 20), \n",
    "                       nn.ReLU(),\n",
    "                       nn.Linear(20, 20), \n",
    "                       nn.ReLU(),\n",
    "                       nn.Linear(20, 10), \n",
    "                       )\n",
    "model1 = model1.to(device)\n",
    "opt1 = torch.optim.SGD(model1.parameters(), lr=0.182)\n",
    "train_losses, valid_losses = train(model1, trainloader, valloader, opt1, 100)\n",
    "test_loss, acc_test = infer(model1, testloader)\n",
    "print(\"Final TEST SCORE: loss: {} acc: {}\".format(test_loss, acc_test))\n",
    "training_plot(train_losses, valid_losses)"
   ]
  },
  {
   "cell_type": "code",
   "execution_count": 76,
   "metadata": {},
   "outputs": [
    {
     "name": "stdout",
     "output_type": "stream",
     "text": [
      "[1] loss: 0.00006589, acc: 0.9802\n",
      "[valid] loss: 0.00013608, acc: 0.9612\n",
      "[6] loss: 0.00006490, acc: 0.9807\n",
      "[valid] loss: 0.00013626, acc: 0.9626\n",
      "[11] loss: 0.00006319, acc: 0.9809\n",
      "[valid] loss: 0.00013829, acc: 0.9615\n"
     ]
    }
   ],
   "source": [
    "opt1.param_groups[0]['lr'] = 0.09\n",
    "train_losses, valid_losses = train(model1, trainloader, valloader, opt1, 15)"
   ]
  },
  {
   "cell_type": "code",
   "execution_count": 77,
   "metadata": {},
   "outputs": [
    {
     "name": "stdout",
     "output_type": "stream",
     "text": [
      "Final TEST SCORE: loss: 0.00013314262107014656 acc: 0.962\n"
     ]
    }
   ],
   "source": [
    "test_loss, acc_test = infer(model1, testloader)\n",
    "print(\"Final TEST SCORE: loss: {} acc: {}\".format(test_loss, acc_test))"
   ]
  },
  {
   "cell_type": "code",
   "execution_count": null,
   "metadata": {},
   "outputs": [],
   "source": []
  }
 ],
 "metadata": {
  "kernelspec": {
   "display_name": "Python 3.7.5 64-bit ('anaconda3': virtualenv)",
   "language": "python",
   "name": "python37564bitanaconda3virtualenv5d5c1dfece10413cae64e5f0222a8867"
  },
  "language_info": {
   "codemirror_mode": {
    "name": "ipython",
    "version": 3
   },
   "file_extension": ".py",
   "mimetype": "text/x-python",
   "name": "python",
   "nbconvert_exporter": "python",
   "pygments_lexer": "ipython3",
   "version": "3.7.6"
  }
 },
 "nbformat": 4,
 "nbformat_minor": 4
}
